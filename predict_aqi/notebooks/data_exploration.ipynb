{
 "cells": [
  {
   "cell_type": "code",
   "execution_count": 1,
   "metadata": {
    "collapsed": true
   },
   "outputs": [
    {
     "name": "stderr",
     "output_type": "stream",
     "text": [
      "/opt/conda/lib/python3.5/site-packages/sqlalchemy/dialects/postgresql/base.py:2503: SAWarning: Did not recognize type 'geometry' of column 'coordinates'\n  (attype, name))\n"
     ]
    }
   ],
   "source": [
    "import math\n",
    "import itertools\n",
    "\n",
    "import pandas as pd\n",
    "from sqlalchemy.sql import select\n",
    "\n",
    "from predict_aqi.load_data import (\n",
    "    AirLocation, get_db_session, load_air_location_data, load_measurement_data,\n",
    "    load_nearby_locations, AirMeasurement\n",
    ")"
   ]
  },
  {
   "cell_type": "code",
   "execution_count": 2,
   "metadata": {},
   "outputs": [
    {
     "name": "stdout",
     "output_type": "stream",
     "text": [
      "# places total 3846\n# places with None country name 1428\n# China 940\n# India 70\n"
     ]
    }
   ],
   "source": [
    "session = get_db_session()\n",
    "s = select([AirLocation])\n",
    "print(\"# places total {}\".format(len(list(session.execute(s)))))\n",
    "s = select([AirLocation]).where(AirLocation.en_country_name == None)\n",
    "print(\"# places with None country name {}\".format(len(list(session.execute(s)))))\n",
    "s = select([AirLocation]).where(AirLocation.en_country_name.contains('China'))\n",
    "print(\"# China {}\".format(len(list(session.execute(s)))))\n",
    "s = select([AirLocation]).where(AirLocation.en_country_name.contains('India'))\n",
    "print(\"# India {}\".format(len(list(session.execute(s)))))"
   ]
  },
  {
   "cell_type": "code",
   "execution_count": 3,
   "metadata": {},
   "outputs": [
    {
     "name": "stdout",
     "output_type": "stream",
     "text": [
      "1170 cities within 2200km of Xi'an (includes most of China, mongolia, some of southeast asia, korea, and japan)\n"
     ]
    }
   ],
   "source": [
    "s = select([AirLocation]).where(AirLocation.en_city_name.contains(\"Xi'an\"))\n",
    "center_of_china_city_id = list(session.execute(s))[0]['id']\n",
    "print(\"{} cities within 2200km of Xi'an (includes most of China, mongolia, some of southeast asia, korea, and japan)\".format(len(load_nearby_locations(center_of_china_city_id, 2200))))"
   ]
  },
  {
   "cell_type": "code",
   "execution_count": 4,
   "metadata": {},
   "outputs": [
    {
     "name": "stdout",
     "output_type": "stream",
     "text": [
      "583 cities within 1500km of Nagpur\n"
     ]
    }
   ],
   "source": [
    "s = select([AirLocation]).where(AirLocation.en_city_name.contains(\"Nagpur\"))\n",
    "center_of_india_city_id = list(session.execute(s))[0]['id']\n",
    "print(\"{} cities within 1500km of Nagpur\".format(len(load_nearby_locations(center_of_india_city_id, 1500))))"
   ]
  },
  {
   "cell_type": "code",
   "execution_count": 15,
   "metadata": {},
   "outputs": [
    {
     "name": "stdout",
     "output_type": "stream",
     "text": [
      "37656 measurements for a single location\n"
     ]
    },
    {
     "name": "stdout",
     "output_type": "stream",
     "text": [
      "37584 measurements for a single location\n"
     ]
    },
    {
     "name": "stdout",
     "output_type": "stream",
     "text": [
      "37650 measurements for a single location\n"
     ]
    },
    {
     "name": "stdout",
     "output_type": "stream",
     "text": [
      "37661 measurements for a single location\n"
     ]
    },
    {
     "name": "stdout",
     "output_type": "stream",
     "text": [
      "37674 measurements for a single location\n"
     ]
    }
   ],
   "source": [
    "for i in range(100, 105):\n",
    "    print(\"{} measurements for a single location\".format(len(load_measurement_data(i))))"
   ]
  },
  {
   "cell_type": "code",
   "execution_count": 33,
   "metadata": {},
   "outputs": [
    {
     "name": "stdout",
     "output_type": "stream",
     "text": [
      "           id             measurement_datetime  aqi\n1000  2191653 2016-02-14 13:39:52.583368+00:00  104\n1001  2193809 2016-02-14 14:09:51.839324+00:00  132\n1002  2196001 2016-02-14 14:39:52.200313+00:00  132\n1003  2198160 2016-02-14 15:09:52.235176+00:00  151\n1004  2200351 2016-02-14 15:39:51.328592+00:00  151\n1005  2202541 2016-02-14 16:09:51.945945+00:00  152\n1006  2204737 2016-02-14 16:39:51.489899+00:00  152\n1007  2206920 2016-02-14 17:09:52.092272+00:00  144\n1008  2209138 2016-02-14 17:39:51.909793+00:00  132\n1009  2211305 2016-02-14 18:09:52.089035+00:00  132\n1010  2213490 2016-02-14 18:39:51.851868+00:00  132\n1011  2215707 2016-02-14 19:09:52.084409+00:00  122\n1012  2217890 2016-02-14 19:39:52.317328+00:00  122\n1013  2220106 2016-02-14 20:09:52.556921+00:00  112\n1014  2222291 2016-02-14 20:39:51.975039+00:00  107\n1015  2224474 2016-02-14 21:09:51.746465+00:00  107\n1016  2226659 2016-02-14 21:39:52.182883+00:00  107\n1017  2228830 2016-02-14 22:09:52.230303+00:00  104\n1018  2231011 2016-02-14 22:39:52.214867+00:00  104\n1019  2233210 2016-02-14 23:09:52.185034+00:00  109\n1020  2235392 2016-02-14 23:39:52.168987+00:00  109\n1021  2237572 2016-02-15 00:09:51.994109+00:00  107\n1022  2239769 2016-02-15 00:39:52.299165+00:00  107\n1023  2241966 2016-02-15 01:09:52.030664+00:00  109\n1024  2244169 2016-02-15 01:39:52.203542+00:00  109\n1025  2246361 2016-02-15 02:09:51.770710+00:00  109\n1026  2248560 2016-02-15 02:39:51.822729+00:00  109\n1027  2250729 2016-02-15 03:09:52.765674+00:00  119\n1028  2252935 2016-02-15 03:39:52.488216+00:00  119\n1029  2255113 2016-02-15 04:09:51.779997+00:00  119\n...       ...                              ...  ...\n1070  2345096 2016-02-16 00:39:54.215321+00:00   65\n1071  2347287 2016-02-16 01:09:53.996518+00:00   63\n1072  2349490 2016-02-16 01:39:54.508677+00:00   63\n1073  2351673 2016-02-16 02:09:54.457666+00:00   61\n1074  2353874 2016-02-16 02:39:54.683646+00:00   61\n1075  2356044 2016-02-16 03:09:54.218687+00:00   70\n1076  2358230 2016-02-16 03:39:53.956987+00:00   78\n1077  2360399 2016-02-16 04:09:54.239340+00:00   78\n1078  2362585 2016-02-16 04:39:54.062708+00:00   78\n1079  2364729 2016-02-16 05:09:54.350688+00:00   85\n1080  2366913 2016-02-16 05:39:53.436465+00:00   85\n1081  2369067 2016-02-16 06:09:55.746460+00:00   87\n1082  2371263 2016-02-16 06:39:52.720461+00:00   87\n1083  2373453 2016-02-16 07:09:53.110836+00:00   80\n1084  2375629 2016-02-16 07:39:53.116012+00:00   80\n1085  2377830 2016-02-16 08:09:52.799543+00:00   74\n1086  2380064 2016-02-16 08:39:53.498354+00:00   68\n1087  2382239 2016-02-16 09:09:54.008097+00:00   68\n1088  2384418 2016-02-16 09:39:53.281949+00:00   68\n1089  2386608 2016-02-16 10:09:54.055005+00:00   68\n1090  2388793 2016-02-16 10:39:53.753407+00:00   68\n1091  2390974 2016-02-16 11:09:53.644063+00:00   68\n1092  2393173 2016-02-16 11:39:56.650662+00:00   68\n1093  2395343 2016-02-16 12:09:56.213235+00:00   76\n1094  2397561 2016-02-16 12:39:54.548550+00:00   76\n1095  2399702 2016-02-16 13:09:53.420798+00:00   91\n1096  2401922 2016-02-16 13:39:54.183169+00:00   91\n1097  2404065 2016-02-16 14:09:53.498106+00:00  114\n1098  2406238 2016-02-16 14:39:52.782437+00:00  139\n1099  2408409 2016-02-16 15:09:52.722749+00:00  139\n\n[100 rows x 3 columns]\n"
     ]
    }
   ],
   "source": [
    "print(load_measurement_data(110)[1000:1100])"
   ]
  },
  {
   "cell_type": "code",
   "execution_count": null,
   "metadata": {},
   "outputs": [],
   "source": [
    ""
   ]
  }
 ],
 "metadata": {
  "kernelspec": {
   "display_name": "Python 2",
   "language": "python",
   "name": "python2"
  },
  "language_info": {
   "codemirror_mode": {
    "name": "ipython",
    "version": 2.0
   },
   "file_extension": ".py",
   "mimetype": "text/x-python",
   "name": "python",
   "nbconvert_exporter": "python",
   "pygments_lexer": "ipython2",
   "version": "2.7.6"
  }
 },
 "nbformat": 4,
 "nbformat_minor": 0
}