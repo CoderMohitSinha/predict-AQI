{
 "cells": [
  {
   "cell_type": "code",
   "execution_count": 1,
   "metadata": {
    "collapsed": false
   },
   "outputs": [
    {
     "name": "stderr",
     "output_type": "stream",
     "text": [
      "/opt/conda/lib/python3.5/site-packages/sqlalchemy/dialects/postgresql/base.py:2503: SAWarning: Did not recognize type 'geometry' of column 'coordinates'\n  (attype, name))\n"
     ]
    },
    {
     "name": "stdout",
     "output_type": "stream",
     "text": [
      "Mudanjiang, China\n"
     ]
    }
   ],
   "source": [
    "import math\n",
    "import itertools\n",
    "\n",
    "import pandas as pd\n",
    "from sqlalchemy.sql import select\n",
    "\n",
    "from predict_aqi.load_data import (\n",
    "    AirLocation, get_db_session, load_air_location_data, load_measurement_data,\n",
    "    load_nearby_location_measurement_data\n",
    ")\n",
    "\n",
    "# Select some airlocation with bad aqi\n",
    "session = get_db_session()\n",
    "s = select([AirLocation]).where(AirLocation.aqi > 100)\n",
    "some_airlocation_id = session.execute(s).scalar()\n",
    "some_airlocation = load_air_location_data(some_airlocation_id)\n",
    "\n",
    "print(\"{}, {}\".format(some_airlocation.short_name, some_airlocation.en_country_name))\n",
    "\n",
    "measurements = load_measurement_data(some_airlocation_id)"
   ]
  },
  {
   "cell_type": "code",
   "execution_count": 2,
   "metadata": {},
   "outputs": [],
   "source": [
    "# Select classifier to use\n",
    "from sklearn.neural_network import MLPRegressor\n",
    "from predict_aqi.model import generate_AQI_inputs_and_outputs\n",
    "from predict_aqi import config\n",
    "\n",
    "\n",
    "indices_ahead_to_predict = range(2, config.NUMBER_AHEAD_TO_PREDICT + 2, 2)\n",
    "indices_behind_to_use = range(1, 250)\n",
    "df, input_columns, output_columns = generate_AQI_inputs_and_outputs(\n",
    "    measurements, indices_behind_to_use, indices_ahead_to_predict\n",
    ")"
   ]
  },
  {
   "cell_type": "code",
   "execution_count": 3,
   "metadata": {},
   "outputs": [],
   "source": [
    "# Define functions for generate_predictions method\n",
    "\n",
    "from predict_aqi.transform_data import generate_time_inputs\n",
    "\n",
    "\n",
    "def first_step_format_inputs_outputs(all_data):\n",
    "    return all_data, input_columns, output_columns\n",
    "\n",
    " \n",
    "def first_step_split_function(all_data, input_columns, output_columns):\n",
    "    # Split by the first 90% of data. That means we're our testing set is extrapolation.\n",
    "    row_count = all_data.count()[0]\n",
    "    split_row = int(round(row_count * 0.90))\n",
    "    # x_train, y_train, x_test, y_test\n",
    "    return (all_data[input_columns][:split_row], \n",
    "            all_data[output_columns][:split_row],\n",
    "            all_data[input_columns][split_row:],\n",
    "            all_data[output_columns][split_row:])\n",
    "\n",
    "\n",
    "def second_step_format_inputs_outputs(all_data):\n",
    "    all_data, time_columns = generate_time_inputs(all_data)\n",
    "    first_step_prediction_columns = ['{}_ahead_first_step_pred'.format(str(i)) \n",
    "                                     for i in indices_ahead_to_predict]\n",
    "    second_input_columns = list(itertools.chain(time_columns, first_step_prediction_columns))\n",
    "    # return the right columns\n",
    "    return all_data, second_input_columns, output_columns\n",
    "\n",
    "second_step_split_function = first_step_split_function"
   ]
  },
  {
   "cell_type": "code",
   "execution_count": 6,
   "metadata": {},
   "outputs": [
    {
     "name": "stdout",
     "output_type": "stream",
     "text": [
      "Step 1\nTraining MLPRegressor...\n"
     ]
    },
    {
     "name": "stdout",
     "output_type": "stream",
     "text": [
      "Done!\nTraining time (secs): 0.578\nPredicting values using MLPRegressor...\nDone!\nPrediction time (secs): 0.022\nStep 2\n"
     ]
    },
    {
     "name": "stdout",
     "output_type": "stream",
     "text": [
      "Training MLPRegressor...\n"
     ]
    },
    {
     "name": "stdout",
     "output_type": "stream",
     "text": [
      "Done!\nTraining time (secs): 0.707\nPredicting values using MLPRegressor...\nDone!\nPrediction time (secs): 0.024\nStep 1\n"
     ]
    },
    {
     "name": "stdout",
     "output_type": "stream",
     "text": [
      "Training MLPRegressor...\n"
     ]
    },
    {
     "name": "stdout",
     "output_type": "stream",
     "text": [
      "Done!\nTraining time (secs): 0.586\nPredicting values using MLPRegressor...\nDone!\nPrediction time (secs): 0.023\nStep 2\n"
     ]
    },
    {
     "name": "stdout",
     "output_type": "stream",
     "text": [
      "Training MLPRegressor...\n"
     ]
    },
    {
     "name": "stdout",
     "output_type": "stream",
     "text": [
      "Done!\nTraining time (secs): 0.821\nPredicting values using MLPRegressor...\nDone!\nPrediction time (secs): 0.033\nStep 1\n"
     ]
    },
    {
     "name": "stdout",
     "output_type": "stream",
     "text": [
      "Training MLPRegressor...\n"
     ]
    },
    {
     "name": "stdout",
     "output_type": "stream",
     "text": [
      "Done!\nTraining time (secs): 0.545\nPredicting values using MLPRegressor...\nDone!\nPrediction time (secs): 0.022\nStep 2\n"
     ]
    },
    {
     "name": "stdout",
     "output_type": "stream",
     "text": [
      "Training MLPRegressor...\n"
     ]
    },
    {
     "name": "stdout",
     "output_type": "stream",
     "text": [
      "Done!\nTraining time (secs): 0.943\nPredicting values using MLPRegressor...\nDone!\nPrediction time (secs): 0.028\nStep 1\n"
     ]
    },
    {
     "name": "stdout",
     "output_type": "stream",
     "text": [
      "Training MLPRegressor...\n"
     ]
    },
    {
     "name": "stdout",
     "output_type": "stream",
     "text": [
      "Done!\nTraining time (secs): 0.675\nPredicting values using MLPRegressor...\nDone!\nPrediction time (secs): 0.029\nStep 2\n"
     ]
    },
    {
     "name": "stdout",
     "output_type": "stream",
     "text": [
      "Training MLPRegressor...\n"
     ]
    },
    {
     "name": "stdout",
     "output_type": "stream",
     "text": [
      "Done!\nTraining time (secs): 1.065\nPredicting values using MLPRegressor...\nDone!\nPrediction time (secs): 0.024\nStep 1\n"
     ]
    },
    {
     "name": "stdout",
     "output_type": "stream",
     "text": [
      "Training MLPRegressor...\n"
     ]
    },
    {
     "name": "stdout",
     "output_type": "stream",
     "text": [
      "Done!\nTraining time (secs): 0.496\nPredicting values using MLPRegressor...\nDone!\nPrediction time (secs): 0.023\nStep 2\n"
     ]
    },
    {
     "name": "stdout",
     "output_type": "stream",
     "text": [
      "Training MLPRegressor...\n"
     ]
    },
    {
     "name": "stdout",
     "output_type": "stream",
     "text": [
      "Done!\nTraining time (secs): 1.015\nPredicting values using MLPRegressor...\nDone!\nPrediction time (secs): 0.025\nStep 1\n"
     ]
    },
    {
     "name": "stdout",
     "output_type": "stream",
     "text": [
      "Training MLPRegressor...\n"
     ]
    },
    {
     "name": "stdout",
     "output_type": "stream",
     "text": [
      "Done!\nTraining time (secs): 0.477\nPredicting values using MLPRegressor...\nDone!\nPrediction time (secs): 0.022\nStep 2\n"
     ]
    },
    {
     "name": "stdout",
     "output_type": "stream",
     "text": [
      "Training MLPRegressor...\n"
     ]
    },
    {
     "name": "stdout",
     "output_type": "stream",
     "text": [
      "Done!\nTraining time (secs): 1.130\nPredicting values using MLPRegressor...\nDone!\nPrediction time (secs): 0.025\nStep 1\n"
     ]
    },
    {
     "name": "stdout",
     "output_type": "stream",
     "text": [
      "Training MLPRegressor...\n"
     ]
    },
    {
     "name": "stdout",
     "output_type": "stream",
     "text": [
      "Done!\nTraining time (secs): 0.489\nPredicting values using MLPRegressor...\nDone!\nPrediction time (secs): 0.023\nStep 2\n"
     ]
    },
    {
     "name": "stdout",
     "output_type": "stream",
     "text": [
      "Training MLPRegressor...\n"
     ]
    },
    {
     "name": "stdout",
     "output_type": "stream",
     "text": [
      "Done!\nTraining time (secs): 1.022\nPredicting values using MLPRegressor...\nDone!\nPrediction time (secs): 0.024\nStep 1\n"
     ]
    },
    {
     "name": "stdout",
     "output_type": "stream",
     "text": [
      "Training MLPRegressor...\n"
     ]
    },
    {
     "name": "stdout",
     "output_type": "stream",
     "text": [
      "Done!\nTraining time (secs): 0.572\nPredicting values using MLPRegressor...\nDone!\nPrediction time (secs): 0.022\nStep 2\n"
     ]
    },
    {
     "name": "stdout",
     "output_type": "stream",
     "text": [
      "Training MLPRegressor...\n"
     ]
    },
    {
     "name": "stdout",
     "output_type": "stream",
     "text": [
      "Done!\nTraining time (secs): 0.765\nPredicting values using MLPRegressor...\nDone!\nPrediction time (secs): 0.025\nStep 1\n"
     ]
    },
    {
     "name": "stdout",
     "output_type": "stream",
     "text": [
      "Training MLPRegressor...\n"
     ]
    },
    {
     "name": "stdout",
     "output_type": "stream",
     "text": [
      "Done!\nTraining time (secs): 0.489\nPredicting values using MLPRegressor...\nDone!\nPrediction time (secs): 0.023\nStep 2\n"
     ]
    },
    {
     "name": "stdout",
     "output_type": "stream",
     "text": [
      "Training MLPRegressor...\n"
     ]
    },
    {
     "name": "stdout",
     "output_type": "stream",
     "text": [
      "Done!\nTraining time (secs): 0.925\nPredicting values using MLPRegressor...\nDone!\nPrediction time (secs): 0.024\nStep 1\n"
     ]
    },
    {
     "name": "stdout",
     "output_type": "stream",
     "text": [
      "Training MLPRegressor...\n"
     ]
    },
    {
     "name": "stdout",
     "output_type": "stream",
     "text": [
      "Done!\nTraining time (secs): 0.480\nPredicting values using MLPRegressor...\nDone!\nPrediction time (secs): 0.023\nStep 2\n"
     ]
    },
    {
     "name": "stdout",
     "output_type": "stream",
     "text": [
      "Training MLPRegressor...\n"
     ]
    },
    {
     "name": "stdout",
     "output_type": "stream",
     "text": [
      "Done!\nTraining time (secs): 0.823\nPredicting values using MLPRegressor...\nDone!\nPrediction time (secs): 0.024\nStep 1\n"
     ]
    },
    {
     "name": "stdout",
     "output_type": "stream",
     "text": [
      "Training MLPRegressor...\n"
     ]
    },
    {
     "name": "stdout",
     "output_type": "stream",
     "text": [
      "Done!\nTraining time (secs): 0.491\nPredicting values using MLPRegressor...\nDone!\nPrediction time (secs): 0.023\nStep 2\n"
     ]
    },
    {
     "name": "stdout",
     "output_type": "stream",
     "text": [
      "Training MLPRegressor...\n"
     ]
    },
    {
     "name": "stdout",
     "output_type": "stream",
     "text": [
      "Done!\nTraining time (secs): 0.828\nPredicting values using MLPRegressor...\nDone!\nPrediction time (secs): 0.024\nStep 1\n"
     ]
    },
    {
     "name": "stdout",
     "output_type": "stream",
     "text": [
      "Training MLPRegressor...\n"
     ]
    },
    {
     "name": "stdout",
     "output_type": "stream",
     "text": [
      "Done!\nTraining time (secs): 0.484\nPredicting values using MLPRegressor...\nDone!\nPrediction time (secs): 0.022\nStep 2\n"
     ]
    },
    {
     "name": "stdout",
     "output_type": "stream",
     "text": [
      "Training MLPRegressor...\n"
     ]
    },
    {
     "name": "stdout",
     "output_type": "stream",
     "text": [
      "Done!\nTraining time (secs): 0.815\nPredicting values using MLPRegressor...\nDone!\nPrediction time (secs): 0.024\nStep 1\n"
     ]
    },
    {
     "name": "stdout",
     "output_type": "stream",
     "text": [
      "Training MLPRegressor...\n"
     ]
    },
    {
     "name": "stdout",
     "output_type": "stream",
     "text": [
      "Done!\nTraining time (secs): 0.501\nPredicting values using MLPRegressor...\nDone!\nPrediction time (secs): 0.023\nStep 2\n"
     ]
    },
    {
     "name": "stdout",
     "output_type": "stream",
     "text": [
      "Training MLPRegressor...\n"
     ]
    },
    {
     "name": "stdout",
     "output_type": "stream",
     "text": [
      "Done!\nTraining time (secs): 0.807\nPredicting values using MLPRegressor...\nDone!\nPrediction time (secs): 0.025\nStep 1\n"
     ]
    },
    {
     "name": "stdout",
     "output_type": "stream",
     "text": [
      "Training MLPRegressor...\n"
     ]
    },
    {
     "name": "stdout",
     "output_type": "stream",
     "text": [
      "Done!\nTraining time (secs): 0.486\nPredicting values using MLPRegressor...\nDone!\nPrediction time (secs): 0.022\nStep 2\n"
     ]
    },
    {
     "name": "stdout",
     "output_type": "stream",
     "text": [
      "Training MLPRegressor...\n"
     ]
    },
    {
     "name": "stdout",
     "output_type": "stream",
     "text": [
      "Done!\nTraining time (secs): 0.820\nPredicting values using MLPRegressor...\nDone!\nPrediction time (secs): 0.024\nStep 1\n"
     ]
    },
    {
     "name": "stdout",
     "output_type": "stream",
     "text": [
      "Training MLPRegressor...\n"
     ]
    },
    {
     "name": "stdout",
     "output_type": "stream",
     "text": [
      "Done!\nTraining time (secs): 0.493\nPredicting values using MLPRegressor...\nDone!\nPrediction time (secs): 0.023\nStep 2\n"
     ]
    },
    {
     "name": "stdout",
     "output_type": "stream",
     "text": [
      "Training MLPRegressor...\n"
     ]
    },
    {
     "name": "stdout",
     "output_type": "stream",
     "text": [
      "Done!\nTraining time (secs): 0.800\nPredicting values using MLPRegressor...\nDone!\nPrediction time (secs): 0.025\nStep 1\n"
     ]
    },
    {
     "name": "stdout",
     "output_type": "stream",
     "text": [
      "Training MLPRegressor...\n"
     ]
    },
    {
     "name": "stdout",
     "output_type": "stream",
     "text": [
      "Done!\nTraining time (secs): 0.482\nPredicting values using MLPRegressor...\nDone!\nPrediction time (secs): 0.023\nStep 2\n"
     ]
    },
    {
     "name": "stdout",
     "output_type": "stream",
     "text": [
      "Training MLPRegressor...\n"
     ]
    },
    {
     "name": "stdout",
     "output_type": "stream",
     "text": [
      "Done!\nTraining time (secs): 0.705\nPredicting values using MLPRegressor...\nDone!\nPrediction time (secs): 0.024\nStep 1\n"
     ]
    },
    {
     "name": "stdout",
     "output_type": "stream",
     "text": [
      "Training MLPRegressor...\n"
     ]
    },
    {
     "name": "stdout",
     "output_type": "stream",
     "text": [
      "Done!\nTraining time (secs): 0.495\nPredicting values using MLPRegressor...\nDone!\nPrediction time (secs): 0.022\nStep 2\n"
     ]
    },
    {
     "name": "stdout",
     "output_type": "stream",
     "text": [
      "Training MLPRegressor...\n"
     ]
    },
    {
     "name": "stdout",
     "output_type": "stream",
     "text": [
      "Done!\nTraining time (secs): 0.813\nPredicting values using MLPRegressor...\nDone!\nPrediction time (secs): 0.024\nStep 1\n"
     ]
    },
    {
     "name": "stdout",
     "output_type": "stream",
     "text": [
      "Training MLPRegressor...\n"
     ]
    },
    {
     "name": "stdout",
     "output_type": "stream",
     "text": [
      "Done!\nTraining time (secs): 0.577\nPredicting values using MLPRegressor...\nDone!\nPrediction time (secs): 0.037\nStep 2\n"
     ]
    },
    {
     "name": "stdout",
     "output_type": "stream",
     "text": [
      "Training MLPRegressor...\n"
     ]
    },
    {
     "name": "stdout",
     "output_type": "stream",
     "text": [
      "Done!\nTraining time (secs): 0.809\nPredicting values using MLPRegressor...\nDone!\nPrediction time (secs): 0.024\nStep 1\n"
     ]
    },
    {
     "name": "stdout",
     "output_type": "stream",
     "text": [
      "Training MLPRegressor...\n"
     ]
    },
    {
     "name": "stdout",
     "output_type": "stream",
     "text": [
      "Done!\nTraining time (secs): 0.507\nPredicting values using MLPRegressor...\nDone!\nPrediction time (secs): 0.032\nStep 2\n"
     ]
    },
    {
     "name": "stdout",
     "output_type": "stream",
     "text": [
      "Training MLPRegressor...\n"
     ]
    },
    {
     "name": "stdout",
     "output_type": "stream",
     "text": [
      "Done!\nTraining time (secs): 0.697\nPredicting values using MLPRegressor...\nDone!\nPrediction time (secs): 0.024\nStep 1\n"
     ]
    },
    {
     "name": "stdout",
     "output_type": "stream",
     "text": [
      "Training MLPRegressor...\n"
     ]
    },
    {
     "name": "stdout",
     "output_type": "stream",
     "text": [
      "Done!\nTraining time (secs): 0.481\nPredicting values using MLPRegressor...\nDone!\nPrediction time (secs): 0.022\nStep 2\n"
     ]
    },
    {
     "name": "stdout",
     "output_type": "stream",
     "text": [
      "Training MLPRegressor...\n"
     ]
    },
    {
     "name": "stdout",
     "output_type": "stream",
     "text": [
      "Done!\nTraining time (secs): 0.898\nPredicting values using MLPRegressor...\nDone!\nPrediction time (secs): 0.024\n"
     ]
    }
   ],
   "source": [
    "from predict_aqi.model import generate_predictions\n",
    "from sklearn.metrics import mean_absolute_error\n",
    "import copy\n",
    "\n",
    "\n",
    "row_count = df.count()[0]\n",
    "split_row = int(round(row_count * 0.90))\n",
    "largest_input_columns = copy.deepcopy(input_columns)\n",
    "\n",
    "errors = {}\n",
    "\n",
    "for indices_behind_to_use_index in range(12, 250, 12):\n",
    "    input_columns = largest_input_columns[:indices_behind_to_use_index]\n",
    "    first_step_regressor = MLPRegressor()\n",
    "    second_step_regressor = MLPRegressor()\n",
    "    this_iteration_df = df.copy(deep=True)\n",
    "    this_iteration_df = generate_predictions(\n",
    "        this_iteration_df,\n",
    "        first_step_format_inputs_outputs,\n",
    "        first_step_split_function,\n",
    "        second_step_format_inputs_outputs,\n",
    "        second_step_split_function,\n",
    "        first_step_regressor,\n",
    "        second_step_regressor,\n",
    "        indices_ahead_to_predict,\n",
    "    )\n",
    "    this_iteration_error_dict = {'first_step': {}, 'second_step': {}}\n",
    "    for i in range(12, 48, 12):\n",
    "        this_iteration_error_dict['first_step'][i] = mean_absolute_error(\n",
    "            this_iteration_df['{}_ahead_AQI'.format(i)][:split_row], \n",
    "            this_iteration_df['{}_ahead_first_step_pred'.format(i)][:split_row]\n",
    "        )\n",
    "        this_iteration_error_dict['second_step'][i] = mean_absolute_error(\n",
    "            this_iteration_df['{}_ahead_AQI'.format(i)][:split_row], \n",
    "            this_iteration_df['{}_ahead_second_step_pred'.format(i)][:split_row]\n",
    "        )\n",
    "    errors[indices_behind_to_use_index] = this_iteration_error_dict\n",
    "    del this_iteration_df\n",
    "    "
   ]
  },
  {
   "cell_type": "code",
   "execution_count": 10,
   "metadata": {},
   "outputs": [
    {
     "name": "stdout",
     "output_type": "stream",
     "text": [
      "96\n{'second_step': {24: 0.059711159459524141, 36: 0.062978334565501864, 12: 0.054065315569793188}, 'first_step': {24: 0.066430080484686585, 36: 0.07423218095167658, 12: 0.056408194986850117}}\n144\n{'second_step': {24: 0.056212840401468199, 36: 0.058767488372728778, 12: 0.052156765757485297}, 'first_step': {24: 0.066082710382869336, 36: 0.073131436180919676, 12: 0.056225640550654737}}\n240\n{'second_step': {24: 0.05785388402123659, 36: 0.060659361342043291, 12: 0.051469550124866974}, 'first_step': {24: 0.067461082725609259, 36: 0.074637444343475218, 12: 0.057797879612618355}}\n180\n{'second_step': {24: 0.056877905490638321, 36: 0.06016619665697804, 12: 0.051606645589273727}, 'first_step': {24: 0.065933290497265679, 36: 0.073083761840362735, 12: 0.056378903259939772}}\n132\n{'second_step': {24: 0.056511919224299607, 36: 0.058698036440408968, 12: 0.051468268045121543}, 'first_step': {24: 0.06697457944909456, 36: 0.072050860547980031, 12: 0.056336590617269186}}\n204\n{'second_step': {24: 0.058671321065507827, 36: 0.059179127019119718, 12: 0.054094222112610384}, 'first_step': {24: 0.065818900331420571, 36: 0.073555584502673549, 12: 0.055720271665330695}}\n72\n{'second_step': {24: 0.058605287774082068, 36: 0.060069899382079482, 12: 0.052383915098990083}, 'first_step': {24: 0.065428281580120498, 36: 0.072032306535719973, 12: 0.056121358423772721}}\n108\n{'second_step': {24: 0.055257916372732252, 36: 0.059452573328216782, 12: 0.05194138996218832}, 'first_step': {24: 0.066107987999620088, 36: 0.073612673444876112, 12: 0.056194706221095223}}\n12\n{'second_step': {24: 0.058210794363486973, 36: 0.060650204182711692, 12: 0.053629664167318125}, 'first_step': {24: 0.066598251445783352, 36: 0.073063369768747319, 12: 0.05653676095645415}}\n216\n{'second_step': {24: 0.058229521454818758, 36: 0.059840137305437364, 12: 0.051384834287581289}, 'first_step': {24: 0.065889370855595542, 36: 0.0731213871869833, 12: 0.055955610191123106}}\n48\n{'second_step': {24: 0.055406521754710017, 36: 0.058867991572844024, 12: 0.05243614111537586}, 'first_step': {24: 0.065769748681541687, 36: 0.072433166109370381, 12: 0.055522522533160222}}\n24\n{'second_step': {24: 0.057262051597781242, 36: 0.063231438507539442, 12: 0.052004465486370166}, 'first_step': {24: 0.066506373302729377, 36: 0.073107939000353589, 12: 0.05585793852235086}}\n156\n{'second_step': {24: 0.056771448512031891, 36: 0.059262010048591232, 12: 0.052499495392917324}, 'first_step': {24: 0.066700861347492355, 36: 0.073992836260657238, 12: 0.055865538028828925}}\n84\n{'second_step': {24: 0.05736083992599058, 36: 0.058347214123333574, 12: 0.051009075628069236}, 'first_step': {24: 0.065924609993844474, 36: 0.072466279307845521, 12: 0.055837827074226028}}\n120\n{'second_step': {24: 0.056925642225629486, 36: 0.059672896367426065, 12: 0.05257900744269331}, 'first_step': {24: 0.066827718685513599, 36: 0.073505491835721803, 12: 0.056156747829706748}}\n36\n{'second_step': {24: 0.057153355965178759, 36: 0.059381911270838951, 12: 0.051529215985223316}, 'first_step': {24: 0.067738797256238881, 36: 0.076259320474654904, 12: 0.056687673924026849}}\n228\n{'second_step': {24: 0.058258637896561993, 36: 0.061349494653566226, 12: 0.056099159704217472}, 'first_step': {24: 0.066419153425926331, 36: 0.074241810727416951, 12: 0.056798624731103205}}\n168\n{'second_step': {24: 0.057333287753843561, 36: 0.060506135200458111, 12: 0.054103678171229137}, 'first_step': {24: 0.066243477124177372, 36: 0.073685226723785871, 12: 0.057061644407541939}}\n60\n{'second_step': {24: 0.057538784804172925, 36: 0.059270089889141911, 12: 0.054090860218196327}, 'first_step': {24: 0.065626970152069641, 36: 0.072453263943426952, 12: 0.055483749378749302}}\n192\n{'second_step': {24: 0.058716611429323134, 36: 0.060095438223051384, 12: 0.053394765931191225}, 'first_step': {24: 0.066358259486943044, 36: 0.073387297581830824, 12: 0.056662436300683044}}\n"
     ]
    }
   ],
   "source": [
    "error_indices = range(12, 48, 12)\n",
    "first_step_errors = {\n",
    "    i: error_indices[i]['first_step'].values()\n",
    "    for i in error_indices\n",
    "}\n",
    "\n",
    "second_step_errors = {\n",
    "    i: error_indices[i]['second_step'].values()\n",
    "    for i in error_indices\n",
    "}"
   ]
  },
  {
   "cell_type": "code",
   "execution_count": null,
   "metadata": {},
   "outputs": [],
   "source": [
    "import matplotlib.pyplot as plt\n",
    "for distance in first_step_errors:\n",
    "    plt.scatter(\n",
    "        range(12, 50, 12), \n",
    "        y=first_step_errors[distance], \n",
    "        label=\"{}hrs input first step error\".format(distance // 30)\n",
    "    )\n",
    "    plt.scatter(\n",
    "        range(12, 50, 12), \n",
    "        y=second_step_errors[distance], \n",
    "        label=\"{}hrs input second step error\".format(distance // 30)\n",
    "    )\n",
    "#fig = aqi_graph.figure\n",
    "#fig.set_size_inches((15, 10), forward=True)\n",
    "#fig.suptitle(\"AQI actual and predictions (all of test split)\", fontsize=20)\n",
    "#aqi_graph.axis([0.0, 130000000.0, 0.0, 250.0])"
   ]
  },
  {
   "cell_type": "code",
   "execution_count": null,
   "outputs": [],
   "source": [
    ""
   ]
  }
 ],
 "metadata": {
  "kernelspec": {
   "display_name": "Python 3",
   "language": "python",
   "name": "python3"
  },
  "language_info": {
   "codemirror_mode": {
    "name": "ipython",
    "version": 3.0
   },
   "file_extension": ".py",
   "mimetype": "text/x-python",
   "name": "python",
   "nbconvert_exporter": "python",
   "pygments_lexer": "ipython3",
   "version": "3.5.2"
  }
 },
 "nbformat": 4,
 "nbformat_minor": 0
}