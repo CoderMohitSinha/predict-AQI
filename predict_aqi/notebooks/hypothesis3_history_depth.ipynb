{
 "cells": [
  {
   "cell_type": "code",
   "execution_count": 1,
   "metadata": {
    "collapsed": false
   },
   "outputs": [
    {
     "name": "stderr",
     "output_type": "stream",
     "text": [
      "/opt/conda/lib/python3.5/site-packages/sqlalchemy/dialects/postgresql/base.py:2503: SAWarning: Did not recognize type 'geometry' of column 'coordinates'\n  (attype, name))\n"
     ]
    },
    {
     "name": "stdout",
     "output_type": "stream",
     "text": [
      "Mudanjiang, China\n"
     ]
    }
   ],
   "source": [
    "import math\n",
    "import itertools\n",
    "\n",
    "import pandas as pd\n",
    "from sqlalchemy.sql import select\n",
    "\n",
    "from predict_aqi.load_data import (\n",
    "    AirLocation, get_db_session, load_air_location_data, load_measurement_data,\n",
    "    load_nearby_location_measurement_data\n",
    ")\n",
    "\n",
    "# Select some airlocation with bad aqi\n",
    "session = get_db_session()\n",
    "s = select([AirLocation]).where(AirLocation.aqi > 100)\n",
    "some_airlocation_id = session.execute(s).scalar()\n",
    "some_airlocation = load_air_location_data(some_airlocation_id)\n",
    "\n",
    "print(\"{}, {}\".format(some_airlocation.short_name, some_airlocation.en_country_name))\n",
    "\n",
    "measurements = load_measurement_data(some_airlocation_id)"
   ]
  },
  {
   "cell_type": "code",
   "execution_count": 2,
   "metadata": {},
   "outputs": [],
   "source": [
    "# Select classifier to use\n",
    "from sklearn.neural_network import MLPRegressor\n",
    "from predict_aqi.model import generate_AQI_inputs_and_outputs\n",
    "from predict_aqi import config\n",
    "\n",
    "\n",
    "indices_ahead_to_predict = range(2, config.NUMBER_AHEAD_TO_PREDICT + 2, 2)\n",
    "indices_behind_to_use = range(1, 16)\n",
    "df, input_columns, output_columns = generate_AQI_inputs_and_outputs(\n",
    "    measurements, indices_behind_to_use, indices_ahead_to_predict\n",
    ")"
   ]
  },
  {
   "cell_type": "code",
   "execution_count": 3,
   "metadata": {},
   "outputs": [],
   "source": [
    "# Define functions for generate_predictions method\n",
    "\n",
    "from predict_aqi.transform_data import generate_time_inputs\n",
    "\n",
    "\n",
    "def first_step_format_inputs_outputs(all_data):\n",
    "    return all_data, input_columns, output_columns\n",
    "\n",
    " \n",
    "def first_step_split_function(all_data, input_columns, output_columns):\n",
    "    # Split by the first 90% of data. That means we're our testing set is extrapolation.\n",
    "    row_count = all_data.count()[0]\n",
    "    split_row = int(round(row_count * 0.90))\n",
    "    # x_train, y_train, x_test, y_test\n",
    "    return (all_data[input_columns][:split_row], \n",
    "            all_data[output_columns][:split_row],\n",
    "            all_data[input_columns][split_row:],\n",
    "            all_data[output_columns][split_row:])\n",
    "\n",
    "\n",
    "def second_step_format_inputs_outputs(all_data):\n",
    "    all_data, time_columns = generate_time_inputs(all_data)\n",
    "    first_step_prediction_columns = ['{}_ahead_first_step_pred'.format(str(i)) \n",
    "                                     for i in indices_ahead_to_predict]\n",
    "    second_input_columns = list(itertools.chain(time_columns, first_step_prediction_columns))\n",
    "    # return the right columns\n",
    "    return all_data, second_input_columns, output_columns\n",
    "\n",
    "second_step_split_function = first_step_split_function"
   ]
  },
  {
   "cell_type": "code",
   "execution_count": 18,
   "metadata": {},
   "outputs": [],
   "source": [
    "from predict_aqi.model import generate_predictions\n",
    "from sklearn.metrics import mean_absolute_error\n",
    "import copy\n",
    "\n",
    "\n",
    "row_count = df.count()[0]\n",
    "split_row = int(round(row_count * 0.90))\n",
    "largest_input_columns = copy.deepcopy(input_columns)\n",
    "\n",
    "errors = {}\n",
    "\n",
    "for indices_behind_to_use_index in range(2, 17, 1):\n",
    "    input_columns = largest_input_columns[:indices_behind_to_use_index]\n",
    "    first_step_regressor = MLPRegressor()\n",
    "    second_step_regressor = MLPRegressor()\n",
    "    this_iteration_df = df.copy(deep=True)\n",
    "    this_iteration_df = generate_predictions(\n",
    "        this_iteration_df,\n",
    "        first_step_format_inputs_outputs,\n",
    "        first_step_split_function,\n",
    "        second_step_format_inputs_outputs,\n",
    "        second_step_split_function,\n",
    "        first_step_regressor,\n",
    "        second_step_regressor,\n",
    "        indices_ahead_to_predict,\n",
    "    )\n",
    "    this_iteration_error_dict = {'first_step': {}, 'second_step': {}}\n",
    "    for i in range(12, 50, 2):\n",
    "        this_iteration_error_dict['first_step'][i] = mean_absolute_error(\n",
    "            this_iteration_df['{}_ahead_AQI'.format(i)][:split_row], \n",
    "            this_iteration_df['{}_ahead_first_step_pred'.format(i)][:split_row]\n",
    "        )\n",
    "        this_iteration_error_dict['second_step'][i] = mean_absolute_error(\n",
    "            this_iteration_df['{}_ahead_AQI'.format(i)][:split_row], \n",
    "            this_iteration_df['{}_ahead_second_step_pred'.format(i)][:split_row]\n",
    "        )\n",
    "    errors[indices_behind_to_use_index] = this_iteration_error_dict\n",
    "    del this_iteration_df"
   ]
  },
  {
   "cell_type": "code",
   "execution_count": 19,
   "metadata": {},
   "outputs": [],
   "source": [
    "distances = range(2, 17, 1)\n",
    "first_step_errors = {\n",
    "    i: [n * config.MAX_AQI for n in errors[i]['first_step'].values()]\n",
    "    for i in distances\n",
    "}\n",
    "\n",
    "second_step_errors = {\n",
    "    i: [n * config.MAX_AQI for n in errors[i]['second_step'].values()]\n",
    "    for i in distances\n",
    "}\n"
   ]
  },
  {
   "cell_type": "code",
   "execution_count": 34,
   "metadata": {},
   "outputs": [],
   "source": [
    "import matplotlib.pyplot as plt\n",
    "plt.figure(figsize=(15, 10))\n",
    "plt.axis([8.0, 25.0, 0.0, 25.0])\n",
    "for distance in sorted(first_step_errors.keys()):\n",
    "    plt.plot(\n",
    "        range(6, 25, 1), \n",
    "        first_step_errors[distance], \n",
    "        label=\"{}hrs input first step error\".format(distance // 2),\n",
    "        color=str(distance / 250)\n",
    "    )\n",
    "    plt.plot(\n",
    "        range(6, 25, 1), \n",
    "        second_step_errors[distance], \n",
    "        label=\"{}hrs input second step error\".format(distance // 2),\n",
    "        color=str(distance / 250)\n",
    "    )\n",
    "plt.legend(loc=6, bbox_to_anchor=(0, 0.3))\n",
    "plt.suptitle(\"Absolute AQI error on predictions for the next 24 hours\", fontsize=20)\n"
   ]
  },
  {
   "cell_type": "code",
   "execution_count": 35,
   "metadata": {},
   "outputs": [],
   "source": [
    "for distance in sorted(first_step_errors.keys()):\n",
    "    error_values = second_step_errors[distance]\n",
    "    dict_len = len(error_values)\n",
    "    print(\"Distance into the past of inputs used: {}\".format(distance))\n",
    "    print(\"Sum of absolute AQI error in first 12 hours of prediction: {}\".format(\n",
    "        sum(error_values[:dict_len // 2])\n",
    "    ))\n",
    "    print(\"Sum of absolute AQI error in last 12 hours of prediction: {}\".format(\n",
    "        sum(error_values[dict_len // 2:])\n",
    "    ))"
   ]
  },
  {
   "cell_type": "code",
   "execution_count": null,
   "outputs": [],
   "source": [
    ""
   ]
  }
 ],
 "metadata": {
  "kernelspec": {
   "display_name": "Python 3",
   "language": "python",
   "name": "python3"
  },
  "language_info": {
   "codemirror_mode": {
    "name": "ipython",
    "version": 3.0
   },
   "file_extension": ".py",
   "mimetype": "text/x-python",
   "name": "python",
   "nbconvert_exporter": "python",
   "pygments_lexer": "ipython3",
   "version": "3.5.2"
  }
 },
 "nbformat": 4,
 "nbformat_minor": 0
}