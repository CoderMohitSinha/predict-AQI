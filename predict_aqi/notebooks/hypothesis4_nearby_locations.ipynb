{
 "cells": [
  {
   "cell_type": "code",
   "execution_count": 1,
   "metadata": {
    "collapsed": false
   },
   "outputs": [
    {
     "name": "stderr",
     "output_type": "stream",
     "text": [
      "/opt/conda/lib/python3.5/site-packages/sqlalchemy/dialects/postgresql/base.py:2503: SAWarning: Did not recognize type 'geometry' of column 'coordinates'\n  (attype, name))\n"
     ]
    }
   ],
   "source": [
    "import math\n",
    "import itertools\n",
    "\n",
    "import pandas as pd\n",
    "from sqlalchemy.sql import select\n",
    "\n",
    "from predict_aqi.load_data import (\n",
    "    AirLocation, get_db_session, load_air_location_data, load_measurement_data,\n",
    "    load_nearby_locations\n",
    ")\n",
    "\n",
    "# Select some airlocation with bad aqi\n",
    "session = get_db_session()\n",
    "s = select([AirLocation]).where(AirLocation.aqi > 100)\n",
    "some_airlocation_ids = [x['id'] for x in session.execute(s)]"
   ]
  },
  {
   "cell_type": "code",
   "execution_count": 35,
   "metadata": {},
   "outputs": [
    {
     "name": "stdout",
     "output_type": "stream",
     "text": [
      "Predicting for: Chengdu Shi\nUsing nearby locations: ['China/成都/沙河铺', 'China/成都/三瓦窑', 'China/成都/成都市第二行政学院', 'China/成都/双流县环境监测站']\n"
     ]
    }
   ],
   "source": [
    "# select a location and the four closest to it\n",
    "nearby_locations = load_nearby_locations(some_airlocation_ids[20], 50)[0:5]\n",
    "\n",
    "print(\"Predicting for: \" + load_air_location_data(nearby_locations[0][0])['en_city_name'])\n",
    "print(\"Using nearby locations: \" + str([load_air_location_data(l[0])[\"short_name\"] for l in nearby_locations[1:]]))"
   ]
  },
  {
   "cell_type": "code",
   "execution_count": 37,
   "metadata": {},
   "outputs": [
    {
     "name": "stdout",
     "output_type": "stream",
     "text": [
      "37522 rows loaded for loc #802\n"
     ]
    },
    {
     "name": "stdout",
     "output_type": "stream",
     "text": [
      "37535 rows loaded for loc #633\n"
     ]
    },
    {
     "name": "stdout",
     "output_type": "stream",
     "text": [
      "36276 rows loaded for loc #444\n"
     ]
    },
    {
     "name": "stdout",
     "output_type": "stream",
     "text": [
      "35934 rows loaded for loc #420\n"
     ]
    }
   ],
   "source": [
    "df = load_measurement_data(nearby_locations[0][0])\n",
    "loc_columns_format = ['loc_{}_id', 'loc_{}_measurement_datetime', 'loc_{}_aqi']\n",
    "df.columns = [c.format(1) for c in loc_columns_format]\n",
    "print(\"{} rows loaded for loc #{}\".format(df.count()[0], nearby_locations[0][0]))\n",
    "for index, location in enumerate(nearby_locations[1:]):\n",
    "    single_loc_df = load_measurement_data(location[0])\n",
    "    single_loc_df.columns = [c.format(index + 2) for c in loc_columns_format]\n",
    "    df.join(single_loc_df)\n",
    "    print(\"{} rows loaded for loc #{}\".format(single_loc_df.count()[0], location[0]))\n"
   ]
  },
  {
   "cell_type": "code",
   "execution_count": null,
   "outputs": [],
   "source": [
    ""
   ]
  },
  {
   "cell_type": "code",
   "execution_count": 13,
   "metadata": {},
   "outputs": [],
   "source": [
    "# Select classifier to use\n",
    "from sklearn.neural_network import MLPRegressor\n",
    "from predict_aqi.model import generate_AQI_inputs_and_outputs\n",
    "from predict_aqi import config\n",
    "from predict_aqi.transform_data import clean_data\n",
    "\n",
    "\n",
    "def load_data_for_airlocation(airlocation_id):\n",
    "    indices_ahead_to_predict = range(2, config.NUMBER_AHEAD_TO_PREDICT + 2, 2)\n",
    "    indices_behind_to_use = range(1, MAX_INDEX)\n",
    "    some_airlocation = load_air_location_data(airlocation_id)\n",
    "    \n",
    "    print(\"Loading {}, {}\".format(some_airlocation.short_name, some_airlocation.en_country_name))\n",
    "    \n",
    "    measurements = load_measurement_data(airlocation_id)\n",
    "    df, input_columns, output_columns = generate_AQI_inputs_and_outputs(\n",
    "        measurements, indices_behind_to_use, indices_ahead_to_predict\n",
    "    )\n",
    "    return clean_data(df, input_columns), input_columns, output_columns"
   ]
  },
  {
   "cell_type": "code",
   "execution_count": 14,
   "metadata": {},
   "outputs": [],
   "source": [
    "from predict_aqi.single_city_model import (\n",
    "    generate_predictions, get_first_step_functions, get_second_step_functions\n",
    ")\n",
    "from sklearn.metrics import mean_absolute_error\n",
    "import copy\n",
    "\n",
    "MAX_INDEX = 48\n",
    "INDICES_BEHIND_TO_USE_RANGE = range(1, MAX_INDEX + 1, 4)\n",
    "INDICES_AHEAD_TO_PREDICT = range(2, config.NUMBER_AHEAD_TO_PREDICT + 2, 2)\n",
    "\n",
    "\n",
    "def generate_errors_for_airlocation_predictions(df, input_columns, output_columns):\n",
    "    \n",
    "    row_count = df.count()[0]\n",
    "    split_row = int(round(row_count * 0.90))\n",
    "    \n",
    "    errors = {}\n",
    "    \n",
    "    for indices_behind_to_use_index in INDICES_BEHIND_TO_USE_RANGE:\n",
    "        current_input_columns = copy.deepcopy(input_columns[:indices_behind_to_use_index])\n",
    "        first_step_format_inputs_outputs, first_step_split_function = get_first_step_functions(\n",
    "            current_input_columns, output_columns\n",
    "        )\n",
    "        second_step_format_inputs_outputs, second_step_split_function = get_second_step_functions(\n",
    "            current_input_columns, output_columns, INDICES_AHEAD_TO_PREDICT\n",
    "        )\n",
    "        \n",
    "        first_step_regressor = MLPRegressor()\n",
    "        second_step_regressor = MLPRegressor()\n",
    "        this_iteration_df = df.copy(deep=True)\n",
    "        this_iteration_df = generate_predictions(\n",
    "            this_iteration_df,\n",
    "            first_step_format_inputs_outputs,\n",
    "            first_step_split_function,\n",
    "            second_step_format_inputs_outputs,\n",
    "            second_step_split_function,\n",
    "            first_step_regressor,\n",
    "            second_step_regressor,\n",
    "            INDICES_AHEAD_TO_PREDICT,\n",
    "            False\n",
    "        )\n",
    "        this_iteration_error_dict = {'first_step': {}, 'second_step': {}}\n",
    "        for i in INDICES_AHEAD_TO_PREDICT:\n",
    "            this_iteration_error_dict['first_step'][i] = mean_absolute_error(\n",
    "                this_iteration_df['{}_ahead_AQI'.format(i)][split_row:], \n",
    "                this_iteration_df['{}_ahead_first_step_pred'.format(i)][split_row:]\n",
    "            )\n",
    "            this_iteration_error_dict['second_step'][i] = mean_absolute_error(\n",
    "                this_iteration_df['{}_ahead_AQI'.format(i)][split_row:], \n",
    "                this_iteration_df['{}_ahead_second_step_pred'.format(i)][split_row:]\n",
    "            )\n",
    "        errors[indices_behind_to_use_index] = this_iteration_error_dict\n",
    "        del this_iteration_df\n",
    "    return errors"
   ]
  },
  {
   "cell_type": "code",
   "execution_count": 22,
   "metadata": {},
   "outputs": [],
   "source": [
    "import matplotlib.pyplot as plt\n",
    "\n",
    "\n",
    "def generate_error_graph(errors):\n",
    "    first_step_errors = {\n",
    "        i: [errors[i]['first_step'][key] * config.MAX_AQI \n",
    "            for key in sorted(errors[i]['first_step'].keys())]\n",
    "        for i in INDICES_BEHIND_TO_USE_RANGE\n",
    "    }\n",
    "    \n",
    "    second_step_errors = {\n",
    "        i: [errors[i]['second_step'][key] * config.MAX_AQI \n",
    "            for key in sorted(errors[i]['second_step'].keys())]\n",
    "        for i in INDICES_BEHIND_TO_USE_RANGE\n",
    "    }\n",
    "    plt.figure(figsize=(15, 10))\n",
    "    plt.axis([0.0, 25.0, 0.0, 45.0])\n",
    "    distances = sorted(first_step_errors.keys())\n",
    "    for distance in distances:\n",
    "        plt.plot(\n",
    "            [d // 2 for d in INDICES_AHEAD_TO_PREDICT], \n",
    "            first_step_errors[distance], \n",
    "            label=\"{}hrs input first step error\".format(distance / 2),\n",
    "            color=str(distance / (max(distances) + 2))\n",
    "        )\n",
    "        plt.plot(\n",
    "            [d // 2 for d in INDICES_AHEAD_TO_PREDICT],\n",
    "            second_step_errors[distance], \n",
    "            label=\"{}hrs input second step error\".format(distance / 2),\n",
    "            color=str(distance / (max(distances) + 2))\n",
    "        )\n",
    "    plt.legend(loc=6, bbox_to_anchor=(0.5, 0))\n",
    "    plt.suptitle(\"Absolute AQI error on predictions for the next 24 hours\", fontsize=20)\n",
    "    return first_step_errors, second_step_errors"
   ]
  },
  {
   "cell_type": "code",
   "execution_count": null,
   "metadata": {},
   "outputs": [],
   "source": [
    ""
   ]
  }
 ],
 "metadata": {
  "kernelspec": {
   "display_name": "Python 3",
   "language": "python",
   "name": "python3"
  },
  "language_info": {
   "codemirror_mode": {
    "name": "ipython",
    "version": 3.0
   },
   "file_extension": ".py",
   "mimetype": "text/x-python",
   "name": "python",
   "nbconvert_exporter": "python",
   "pygments_lexer": "ipython3",
   "version": "3.5.2"
  }
 },
 "nbformat": 4,
 "nbformat_minor": 0
}