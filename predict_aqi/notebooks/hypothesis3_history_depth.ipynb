{
 "cells": [
  {
   "cell_type": "code",
   "execution_count": 1,
   "metadata": {
    "collapsed": false
   },
   "outputs": [
    {
     "name": "stderr",
     "output_type": "stream",
     "text": [
      "/opt/conda/lib/python3.5/site-packages/sqlalchemy/dialects/postgresql/base.py:2503: SAWarning: Did not recognize type 'geometry' of column 'coordinates'\n  (attype, name))\n"
     ]
    },
    {
     "name": "stdout",
     "output_type": "stream",
     "text": [
      "Mudanjiang, China\n"
     ]
    }
   ],
   "source": [
    "import math\n",
    "import itertools\n",
    "\n",
    "import pandas as pd\n",
    "from sqlalchemy.sql import select\n",
    "\n",
    "from predict_aqi.load_data import (\n",
    "    AirLocation, get_db_session, load_air_location_data, load_measurement_data,\n",
    "    load_nearby_location_measurement_data\n",
    ")\n",
    "\n",
    "# Select some airlocation with bad aqi\n",
    "session = get_db_session()\n",
    "s = select([AirLocation]).where(AirLocation.aqi > 100)\n",
    "some_airlocation_id = session.execute(s).scalar()\n",
    "some_airlocation = load_air_location_data(some_airlocation_id)\n",
    "\n",
    "print(\"{}, {}\".format(some_airlocation.short_name, some_airlocation.en_country_name))\n",
    "\n",
    "measurements = load_measurement_data(some_airlocation_id)"
   ]
  },
  {
   "cell_type": "code",
   "execution_count": 9,
   "metadata": {},
   "outputs": [
    {
     "ename": "ImportError",
     "evalue": "cannot import name 'generate_AQI_inputs_and_outputs'",
     "traceback": [
      "\u001b[0;31m---------------------------------------------------------------------------\u001b[0m",
      "\u001b[0;31mImportError\u001b[0m                               Traceback (most recent call last)",
      "\u001b[0;32m<ipython-input-9-92486e72efee>\u001b[0m in \u001b[0;36m<module>\u001b[0;34m()\u001b[0m\n\u001b[0;32m----> 1\u001b[0;31m \u001b[0;32mfrom\u001b[0m \u001b[0mpredict_aqi\u001b[0m\u001b[0;34m.\u001b[0m\u001b[0mmodel\u001b[0m \u001b[0;32mimport\u001b[0m \u001b[0mgenerate_AQI_inputs_and_outputs\u001b[0m\u001b[0;34m\u001b[0m\u001b[0m\n\u001b[0m\u001b[1;32m      2\u001b[0m \u001b[0;32mfrom\u001b[0m \u001b[0mpredict_aqi\u001b[0m \u001b[0;32mimport\u001b[0m \u001b[0mconfig\u001b[0m\u001b[0;34m\u001b[0m\u001b[0m\n\u001b[1;32m      3\u001b[0m \u001b[0;34m\u001b[0m\u001b[0m\n\u001b[1;32m      4\u001b[0m \u001b[0mindices_ahead_to_predict\u001b[0m \u001b[0;34m=\u001b[0m \u001b[0mrange\u001b[0m\u001b[0;34m(\u001b[0m\u001b[0;36m2\u001b[0m\u001b[0;34m,\u001b[0m \u001b[0mconfig\u001b[0m\u001b[0;34m.\u001b[0m\u001b[0mNUMBER_AHEAD_TO_PREDICT\u001b[0m \u001b[0;34m+\u001b[0m \u001b[0;36m2\u001b[0m\u001b[0;34m,\u001b[0m \u001b[0;36m2\u001b[0m\u001b[0;34m)\u001b[0m\u001b[0;34m\u001b[0m\u001b[0m\n\u001b[1;32m      5\u001b[0m \u001b[0mindices_behind_to_use\u001b[0m \u001b[0;34m=\u001b[0m \u001b[0mrange\u001b[0m\u001b[0;34m(\u001b[0m\u001b[0;36m1\u001b[0m\u001b[0;34m,\u001b[0m \u001b[0;36m25\u001b[0m\u001b[0;34m)\u001b[0m\u001b[0;34m\u001b[0m\u001b[0m\n",
      "\u001b[0;31mImportError\u001b[0m: cannot import name 'generate_AQI_inputs_and_outputs'"
     ],
     "output_type": "error"
    }
   ],
   "source": [
    "from predict_aqi.model import generate_AQI_inputs_and_outputs\n",
    "from predict_aqi import config\n",
    "\n",
    "indices_ahead_to_predict = range(2, config.NUMBER_AHEAD_TO_PREDICT + 2, 2)\n",
    "indices_behind_to_use = range(1, 25)\n",
    "df, input_columns, output_columns = generate_AQI_inputs_and_outputs(\n",
    "    measurements, indices_behind_to_use, indices_ahead_to_predict\n",
    ")"
   ]
  },
  {
   "cell_type": "code",
   "execution_count": 8,
   "metadata": {},
   "outputs": [
    {
     "name": "stdout",
     "output_type": "stream",
     "text": [
      "37593\n"
     ]
    }
   ],
   "source": [
    "# Define functions for generate_predictions method\n",
    "\n",
    "def first_step_format_inputs_outputs(all_data):\n",
    "    return all_data, input_columns, output_columns\n",
    "\n",
    " \n",
    "def first_step_split_function(all_data, input_columns, output_columns):\n",
    "    # Split by the first 90% of data. That means we're our testing set is extrapolation.\n",
    "    row_count = all_data.count()[0]\n",
    "    split_row = round(row_count * 0.90)\n",
    "    # x_train, y_train, x_test, y_test\n",
    "    return (all_data[input_columns][:row_count], \n",
    "            all_data[output_columns][:row_count],\n",
    "            all_data[input_columns][row_count:],\n",
    "            all_data[output_columns][row_count:])\n",
    "\n",
    "\n",
    "def second_step_format_inputs_outputs(all_data):\n",
    "    # do time input stuff to all_data\n",
    "    # return the right columns\n",
    "    return all_data\n",
    "\n",
    "\n",
    "second_step_split_function = first_step_split_function"
   ]
  },
  {
   "cell_type": "code",
   "execution_count": 5,
   "metadata": {},
   "outputs": [
    {
     "name": "stdout",
     "output_type": "stream",
     "text": [
      "[2, 4, 6, 8, 10, 12, 14, 16, 18, 20, 22, 24, 26, 28, 30, 32, 34, 36, 38, 40, 42, 44, 46]\n"
     ]
    }
   ],
   "source": [
    "# Select classifier to use\n",
    "from sklearn.neural_network import MLPRegressor\n",
    "\n",
    "first_step_regressor = MLPRegressor()\n",
    "second_step_regressor = MLPRegressor()"
   ]
  },
  {
   "cell_type": "code",
   "execution_count": 11,
   "metadata": {},
   "outputs": [
    {
     "name": "stderr",
     "output_type": "stream",
     "text": [
      "/opt/conda/lib/python3.5/site-packages/ipykernel/__main__.py:14: SettingWithCopyWarning: \nA value is trying to be set on a copy of a slice from a DataFrame.\nTry using .loc[row_indexer,col_indexer] = value instead\n\nSee the caveats in the documentation: http://pandas.pydata.org/pandas-docs/stable/indexing.html#indexing-view-versus-copy\n"
     ]
    }
   ],
   "source": [
    "from predict_aqi.model import generate_predictions\n",
    "df = generate_predictions(\n",
    "    df,\n",
    "    first_step_format_inputs_outputs,\n",
    "    first_step_split_function,\n",
    "    second_step_format_inputs_outputs,\n",
    "    second_step_split_function,\n",
    "    first_step_regressor,\n",
    "    second_step_regressor,\n",
    "    indices_ahead_to_predict,\n",
    ")"
   ]
  },
  {
   "cell_type": "code",
   "execution_count": 13,
   "metadata": {},
   "outputs": [
    {
     "name": "stdout",
     "output_type": "stream",
     "text": [
      "Making training predictions...\nPredicting labels using MLPRegressor...\nDone!\nPrediction time (secs): 0.032\nMaking test predictions...\nPredicting labels using MLPRegressor...\nDone!\nPrediction time (secs): 0.005\n"
     ]
    }
   ],
   "source": [
    "def predict_labels(clf, features, target):\n",
    "    print(\"Predicting labels using {}...\".format(clf.__class__.__name__))\n",
    "    start = time.time()\n",
    "    y_pred = clf.predict(features[feature_columns])\n",
    "    end = time.time()\n",
    "    print(\"Done!\\nPrediction time (secs): {:.3f}\".format(end - start))\n",
    "    return y_pred\n",
    "\n",
    "print(\"Making training predictions...\")\n",
    "y_train_pred = predict_labels(clf, x_train, y_train)\n",
    "print(\"Making test predictions...\")\n",
    "y_test_pred = predict_labels(clf, x_test, y_test)"
   ]
  },
  {
   "cell_type": "code",
   "execution_count": 47,
   "metadata": {},
   "outputs": [
    {
     "name": "stdout",
     "output_type": "stream",
     "text": [
      "Mean absolute error for predicting training set (interpolation): 19.230963908951104\nMean absolute error for predicting test set (interpolation): 19.267614587656553\nMean squared error for 0-ahead prediction test set: 5.2740734909409275\nMean squared error for 11-ahead prediction test set: 16.79834040349421\nMean squared error for 23-ahead prediction test set: 20.59979318925587\nMean squared error for 35-ahead prediction test set: 22.811270845452732\nMean squared error for 47-ahead prediction test set: 24.077800385773706\n"
     ]
    }
   ],
   "source": [
    "from sklearn.metrics import mean_absolute_error\n",
    "\n",
    "# Score predictions\n",
    "print(\"Mean absolute error for predicting training set (interpolation): {}\".format(mean_absolute_error(y_train, y_train_pred) * MAX_AQI))\n",
    "print(\"Mean absolute error for predicting test set (interpolation): {}\".format(mean_absolute_error(y_test, y_test_pred) * MAX_AQI))\n",
    "print(\"Mean squared error for 0-ahead prediction test set: {}\".format(\n",
    "    mean_absolute_error(y_test['0_ahead_normalized_aqi'], [r[0] for r in y_test_pred]) * MAX_AQI\n",
    "))\n",
    "print(\"Mean squared error for 11-ahead prediction test set: {}\".format(\n",
    "    mean_absolute_error(y_test['11_ahead_normalized_aqi'], [r[11] for r in y_test_pred]) * MAX_AQI\n",
    "))\n",
    "print(\"Mean squared error for 23-ahead prediction test set: {}\".format(\n",
    "    mean_absolute_error(y_test['23_ahead_normalized_aqi'], [r[23] for r in y_test_pred]) * MAX_AQI\n",
    "))\n",
    "print(\"Mean squared error for 35-ahead prediction test set: {}\".format(\n",
    "    mean_absolute_error(y_test['35_ahead_normalized_aqi'], [r[35] for r in y_test_pred]) * MAX_AQI\n",
    "))\n",
    "print(\"Mean squared error for 47-ahead prediction test set: {}\".format(\n",
    "    mean_absolute_error(y_test['47_ahead_normalized_aqi'], [r[47] for r in y_test_pred]) * MAX_AQI\n",
    "))"
   ]
  }
 ],
 "metadata": {
  "kernelspec": {
   "display_name": "Python 3",
   "language": "python",
   "name": "python3"
  },
  "language_info": {
   "codemirror_mode": {
    "name": "ipython",
    "version": 3.0
   },
   "file_extension": ".py",
   "mimetype": "text/x-python",
   "name": "python",
   "nbconvert_exporter": "python",
   "pygments_lexer": "ipython3",
   "version": "3.5.2"
  }
 },
 "nbformat": 4,
 "nbformat_minor": 0
}